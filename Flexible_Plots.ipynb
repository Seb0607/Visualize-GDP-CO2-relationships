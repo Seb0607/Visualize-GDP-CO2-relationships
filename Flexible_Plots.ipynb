{
 "cells": [
  {
   "cell_type": "markdown",
   "metadata": {},
   "source": [
    "# Time-varying Plots"
   ]
  },
  {
   "cell_type": "markdown",
   "metadata": {},
   "source": [
    "This app allows you to explore how the GDP-CO2 relationship across regions varies over time."
   ]
  },
  {
   "cell_type": "code",
   "execution_count": 1,
   "metadata": {},
   "outputs": [],
   "source": [
    "# Importing libraries\n",
    "%matplotlib inline\n",
    "\n",
    "import pandas as pd\n",
    "import numpy as np\n",
    "import matplotlib.pyplot as plt\n",
    "import seaborn as sns; sns.set()\n",
    "\n",
    "from ipywidgets import interact, fixed\n",
    "import ipywidgets as widgets"
   ]
  },
  {
   "cell_type": "code",
   "execution_count": 2,
   "metadata": {},
   "outputs": [],
   "source": [
    "# Creating flexible plotting function\n",
    "def FlexPlot(X, Y, year):\n",
    "    \"\"\"\n",
    "    Plots two Pandas dataframes against each other for a specific row.\n",
    "\n",
    "    ARGUMENTS\n",
    "        * X,Y:  Dataframes.\n",
    "        * year: Row identifier.\n",
    "        * save: Name of figure (optional).\n",
    "    \"\"\"\n",
    "    \n",
    "    x = X.loc[year]\n",
    "    y = Y.loc[year]\n",
    "\n",
    "    plt.scatter(x,y, color='black')\n",
    "    plt.xlabel('log(GDP)')\n",
    "    plt.ylabel('log(CO$_2$)')\n",
    "    plt.show()\n"
   ]
  },
  {
   "cell_type": "code",
   "execution_count": 3,
   "metadata": {},
   "outputs": [],
   "source": [
    "# Loading data\n",
    "GDP = pd.read_excel('GDP.xlsx', sheet_name='Python', index_col=0)\n",
    "GDP.sort_index(axis=1, inplace=True)\n",
    "\n",
    "POP = pd.read_excel('Population.xlsx', sheet_name='Python', index_col=0)\n",
    "POP.sort_index(axis=1, inplace=True)\n",
    "\n",
    "DEF = pd.read_excel('Deflator.xlsx', sheet_name='Python', index_col=0)\n",
    "DEF.sort_index(axis=1, inplace=True)\n",
    "\n",
    "PPP = pd.read_excel('PPP.xlsx', sheet_name='Python', index_col=0)\n",
    "PPP.sort_index(axis=1, inplace=True)\n",
    "\n",
    "CO2 = pd.read_excel('CO2_GCP.xlsx', sheet_name='Python', index_col=0)\n",
    "CO2.sort_index(axis=1, inplace=True)\n",
    "\n",
    "# Aligning series\n",
    "World_countries = list(CO2.columns.intersection(GDP.columns))\n",
    "\n",
    "GDP = GDP[World_countries]\n",
    "POP = POP[World_countries]\n",
    "DEF = DEF[World_countries]\n",
    "PPP = PPP[World_countries]\n",
    "CO2 = CO2[World_countries]\n",
    "\n",
    "POP_world = POP.sum(axis=1)\n",
    "\n",
    "# Constructing per capita series\n",
    "year = np.where(GDP.index == 2005)[0][0]\n",
    "\n",
    "Real_GDP     = GDP / DEF\n",
    "GDP_2005     = Real_GDP * np.reshape(np.array(DEF.iloc[year,:]), (1,-1), order='F')\n",
    "GDP_USD_2005 = GDP_2005 / np.reshape(np.array(PPP.iloc[year,:]), (1,-1), order='F')\n",
    "GDP_PC       = (GDP_USD_2005 / 1e9) / (POP / 1e6)\n",
    "\n",
    "CO2_PC       = (CO2 * 3.664) / (POP / 1e6)\n",
    "\n",
    "# Constructing time series\n",
    "time = GDP.index.values\n",
    "time = np.reshape(time, (-1,1), order='F')"
   ]
  },
  {
   "cell_type": "code",
   "execution_count": 4,
   "metadata": {},
   "outputs": [],
   "source": [
    "# Creating log-transformed series\n",
    "lGDP_world = np.log(GDP_PC)\n",
    "lCO2_world = np.log(CO2_PC)\n",
    "\n",
    "OECD_countries = list(\n",
    "    {'ALB', 'AUS', 'AUT', 'BEL', 'BIH', 'BGR', 'CAN', 'HRV', 'CYP', 'CZE', 'DNK', 'EST', 'FIN', 'FRA', 'DEU', 'GRC',\n",
    "     'GUM', 'HUN', 'ISL', 'IRL', 'ITA', 'JPN', 'LVA', 'LTU', 'LUX', 'MLT', 'MNE', 'NLD', 'NZL', 'NOR', 'POL', 'PRT',\n",
    "     'PRI', 'ROU', 'SRB', 'SVK', 'SVN', 'ESP', 'SWE', 'CHE', 'MKD', 'TUR', 'GBR',\n",
    "     'USA'}.intersection(set(World_countries)))\n",
    "\n",
    "lGDP_OECD = lGDP_world[OECD_countries]\n",
    "lCO2_OECD = lCO2_world[OECD_countries]\n",
    "\n",
    "REF_countries  = list(\n",
    "    {'ARM', 'AZE', 'BLR', 'GEO', 'KAZ', 'KGZ', 'MDA', 'RUS', 'TJK', 'TKM', 'UKR',\n",
    "     'UZB'}.intersection(set(World_countries)))\n",
    "\n",
    "lGDP_REF = lGDP_world[REF_countries]\n",
    "lCO2_REF = lCO2_world[REF_countries]\n",
    "\n",
    "Asia_countries = list(\n",
    "    {'AFG', 'BGD', 'BTN', 'BRN', 'KHM', 'CHN', 'PRK', 'KOR', 'FJI', 'PYF', 'IND', 'IDN', 'LAO', 'MYS', 'MDV', 'FSM',\n",
    "     'MNG', 'MMR', 'NPL', 'NCL', 'PAK', 'PNG', 'PHL', 'WSM', 'SGP', 'SLB', 'LKA', 'THA', 'TLS', 'VUT',\n",
    "     'VNM'}.intersection(set(World_countries)))\n",
    "\n",
    "lGDP_Asia = lGDP_world[Asia_countries]\n",
    "lCO2_Asia = lCO2_world[Asia_countries]\n",
    "\n",
    "MAF_countries = list(\n",
    "    {'DZA', 'AGO', 'BHR', 'BEN', 'BWA', 'BFA', 'BDI', 'CMR', 'CPV', 'CAF', 'TCD', 'COM', 'COD', 'COG', 'CIV', 'DJI',\n",
    "     'EGY', 'GNQ', 'ERI', 'ETH', 'GAB', 'GMB', 'GHA', 'GIN', 'GNB', 'IRN', 'IRQ', 'ISR', 'JOR', 'KEN', 'KWT', 'LBN',\n",
    "     'LSO', 'LBR', 'LBY', 'MDG', 'MWI', 'MLI', 'MRT', 'MUS', 'MAR', 'MOZ', 'NAM', 'NER', 'NGA', 'PSE', 'OMN', 'QAT',\n",
    "     'RWA', 'SAU', 'SEN', 'SLE', 'SOM', 'ZAF', 'SSD', 'SDN', 'SWZ', 'SYR', 'TGO', 'TUN', 'UGA', 'ARE', 'TZA', 'YEM',\n",
    "     'ZMB', 'ZWE'}.intersection(set(World_countries)))\n",
    "\n",
    "lGDP_MAF = lGDP_world[MAF_countries]\n",
    "lCO2_MAF = lCO2_world[MAF_countries]\n",
    "\n",
    "LAM_countries  = list(\n",
    "    {'ARG', 'ABW', 'BHS', 'BRB', 'BLZ', 'BOL', 'BRA', 'CHL', 'COL', 'CRI', 'CUB', 'DOM', 'ECU', 'SLV', 'GRD', 'GTM',\n",
    "     'GUY', 'HTI', 'HND', 'JAM', 'MEX', 'NIC', 'PAN', 'PRY', 'PER', 'SUR', 'TTO', 'VIR', 'URY',\n",
    "     'VEN'}.intersection(set(World_countries)))\n",
    "\n",
    "lGDP_LAM = lGDP_world[LAM_countries]\n",
    "lCO2_LAM = lCO2_world[LAM_countries]"
   ]
  },
  {
   "cell_type": "markdown",
   "metadata": {},
   "source": [
    "# World"
   ]
  },
  {
   "cell_type": "code",
   "execution_count": 5,
   "metadata": {},
   "outputs": [
    {
     "data": {
      "application/vnd.jupyter.widget-view+json": {
       "model_id": "cdb740f4dc0c4f9983c446e5524aba67",
       "version_major": 2,
       "version_minor": 0
      },
      "text/plain": [
       "interactive(children=(IntSlider(value=1960, description='year', max=2018, min=1960), Output()), _dom_classes=(…"
      ]
     },
     "metadata": {},
     "output_type": "display_data"
    }
   ],
   "source": [
    "interact(FlexPlot, X=fixed(lGDP_world), Y=fixed(lCO2_world), year=widgets.IntSlider(min=1960, max=2018, step=1, value=1960));"
   ]
  },
  {
   "cell_type": "markdown",
   "metadata": {},
   "source": [
    "# OECD"
   ]
  },
  {
   "cell_type": "code",
   "execution_count": 6,
   "metadata": {},
   "outputs": [
    {
     "data": {
      "application/vnd.jupyter.widget-view+json": {
       "model_id": "77e0bbeb31e1485da7acbc088344be3d",
       "version_major": 2,
       "version_minor": 0
      },
      "text/plain": [
       "interactive(children=(IntSlider(value=1960, description='year', max=2018, min=1960), Output()), _dom_classes=(…"
      ]
     },
     "metadata": {},
     "output_type": "display_data"
    }
   ],
   "source": [
    "interact(FlexPlot, X=fixed(lGDP_OECD), Y=fixed(lCO2_OECD), year=widgets.IntSlider(min=1960, max=2018, step=1, value=1960));"
   ]
  },
  {
   "cell_type": "markdown",
   "metadata": {},
   "source": [
    "# REF"
   ]
  },
  {
   "cell_type": "code",
   "execution_count": 7,
   "metadata": {},
   "outputs": [
    {
     "data": {
      "application/vnd.jupyter.widget-view+json": {
       "model_id": "d995707634a74afc90bc529d076818e7",
       "version_major": 2,
       "version_minor": 0
      },
      "text/plain": [
       "interactive(children=(IntSlider(value=1960, description='year', max=2018, min=1960), Output()), _dom_classes=(…"
      ]
     },
     "metadata": {},
     "output_type": "display_data"
    }
   ],
   "source": [
    "interact(FlexPlot, X=fixed(lGDP_REF), Y=fixed(lCO2_REF), year=widgets.IntSlider(min=1960, max=2018, step=1, value=1960));"
   ]
  },
  {
   "cell_type": "markdown",
   "metadata": {},
   "source": [
    "# Asia"
   ]
  },
  {
   "cell_type": "code",
   "execution_count": 8,
   "metadata": {},
   "outputs": [
    {
     "data": {
      "application/vnd.jupyter.widget-view+json": {
       "model_id": "d69ab43da3dc49dcb8255e0ff1e13ae8",
       "version_major": 2,
       "version_minor": 0
      },
      "text/plain": [
       "interactive(children=(IntSlider(value=1960, description='year', max=2018, min=1960), Output()), _dom_classes=(…"
      ]
     },
     "metadata": {},
     "output_type": "display_data"
    }
   ],
   "source": [
    "interact(FlexPlot, X=fixed(lGDP_Asia), Y=fixed(lCO2_Asia), year=widgets.IntSlider(min=1960, max=2018, step=1, value=1960));"
   ]
  },
  {
   "cell_type": "markdown",
   "metadata": {},
   "source": [
    "# MAF"
   ]
  },
  {
   "cell_type": "code",
   "execution_count": 9,
   "metadata": {},
   "outputs": [
    {
     "data": {
      "application/vnd.jupyter.widget-view+json": {
       "model_id": "19ce515b0d004b19ad1417fdae26aa8e",
       "version_major": 2,
       "version_minor": 0
      },
      "text/plain": [
       "interactive(children=(IntSlider(value=1960, description='year', max=2018, min=1960), Output()), _dom_classes=(…"
      ]
     },
     "metadata": {},
     "output_type": "display_data"
    }
   ],
   "source": [
    "interact(FlexPlot, X=fixed(lGDP_MAF), Y=fixed(lCO2_MAF), year=widgets.IntSlider(min=1960, max=2018, step=1, value=1960));"
   ]
  },
  {
   "cell_type": "markdown",
   "metadata": {},
   "source": [
    "# LAM"
   ]
  },
  {
   "cell_type": "code",
   "execution_count": 10,
   "metadata": {},
   "outputs": [
    {
     "data": {
      "application/vnd.jupyter.widget-view+json": {
       "model_id": "fab9b6ad52194a2082cabed035a36d91",
       "version_major": 2,
       "version_minor": 0
      },
      "text/plain": [
       "interactive(children=(IntSlider(value=1960, description='year', max=2018, min=1960), Output()), _dom_classes=(…"
      ]
     },
     "metadata": {},
     "output_type": "display_data"
    }
   ],
   "source": [
    "interact(FlexPlot, X=fixed(lGDP_LAM), Y=fixed(lCO2_LAM), year=widgets.IntSlider(min=1960, max=2018, step=1, value=1960));"
   ]
  }
 ],
 "metadata": {
  "kernelspec": {
   "display_name": "Python 3",
   "language": "python",
   "name": "python3"
  },
  "language_info": {
   "codemirror_mode": {
    "name": "ipython",
    "version": 3
   },
   "file_extension": ".py",
   "mimetype": "text/x-python",
   "name": "python",
   "nbconvert_exporter": "python",
   "pygments_lexer": "ipython3",
   "version": "3.7.3"
  }
 },
 "nbformat": 4,
 "nbformat_minor": 4
}
